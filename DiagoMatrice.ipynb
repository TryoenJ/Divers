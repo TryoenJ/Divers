{
 "cells": [
  {
   "cell_type": "markdown",
   "metadata": {},
   "source": [
    "### Diagonalisation de la matrice de corrélation des observations"
   ]
  },
  {
   "cell_type": "code",
   "execution_count": 1,
   "metadata": {},
   "outputs": [],
   "source": [
    "from sympy import *\n",
    "s_1, s_2, b_1, b_2, Delta_phi = symbols(\"s_1 s_2 b_1 b_2 Delta_phi\")"
   ]
  },
  {
   "cell_type": "markdown",
   "metadata": {},
   "source": [
    "Note : pour afficher une grandeur que l'on vient de calculer, il suffit d'écrire son symbole sur la dernière ligne d'une cellule. Exemple:"
   ]
  },
  {
   "cell_type": "code",
   "execution_count": 2,
   "metadata": {},
   "outputs": [
    {
     "data": {
      "text/latex": [
       "$\\displaystyle b_{1}^{2} + s_{1}^{2}$"
      ],
      "text/plain": [
       "b_1**2 + s_1**2"
      ]
     },
     "execution_count": 2,
     "metadata": {},
     "output_type": "execute_result"
    }
   ],
   "source": [
    "R11 = s_1**2 + b_1**2\n",
    "R11"
   ]
  },
  {
   "cell_type": "code",
   "execution_count": 3,
   "metadata": {},
   "outputs": [
    {
     "data": {
      "text/latex": [
       "$\\displaystyle b_{2}^{2} + s_{2}^{2}$"
      ],
      "text/plain": [
       "b_2**2 + s_2**2"
      ]
     },
     "execution_count": 3,
     "metadata": {},
     "output_type": "execute_result"
    }
   ],
   "source": [
    "R22 = s_2**2 + b_2**2\n",
    "R22"
   ]
  },
  {
   "cell_type": "markdown",
   "metadata": {},
   "source": [
    "Il est également possible d'utiliser la méthode ``display``:"
   ]
  },
  {
   "cell_type": "code",
   "execution_count": 4,
   "metadata": {},
   "outputs": [
    {
     "data": {
      "text/latex": [
       "$\\displaystyle s_{1} s_{2} e^{- \\frac{i \\Delta_{\\phi}}{2}}$"
      ],
      "text/plain": [
       "s_1*s_2*exp(-I*Delta_phi/2)"
      ]
     },
     "metadata": {},
     "output_type": "display_data"
    }
   ],
   "source": [
    "R21 = s_1*s_2*exp(-I*Delta_phi/2)\n",
    "display(R21)"
   ]
  },
  {
   "cell_type": "code",
   "execution_count": 5,
   "metadata": {},
   "outputs": [
    {
     "data": {
      "text/latex": [
       "$\\displaystyle s_{1} s_{2} e^{\\frac{i \\Delta_{\\phi}}{2}}$"
      ],
      "text/plain": [
       "s_1*s_2*exp(I*Delta_phi/2)"
      ]
     },
     "metadata": {},
     "output_type": "display_data"
    }
   ],
   "source": [
    "R12 = s_1*s_2*exp(I*Delta_phi/2)\n",
    "display(R12)"
   ]
  },
  {
   "cell_type": "code",
   "execution_count": 8,
   "metadata": {},
   "outputs": [
    {
     "data": {
      "text/latex": [
       "$\\displaystyle \\left[\\begin{matrix}b_{1}^{2} + s_{1}^{2} & s_{1} s_{2} e^{- \\frac{i \\Delta_{\\phi}}{2}}\\\\s_{1} s_{2} e^{\\frac{i \\Delta_{\\phi}}{2}} & b_{2}^{2} + s_{2}^{2}\\end{matrix}\\right]$"
      ],
      "text/plain": [
       "Matrix([\n",
       "[           b_1**2 + s_1**2, s_1*s_2*exp(-I*Delta_phi/2)],\n",
       "[s_1*s_2*exp(I*Delta_phi/2),             b_2**2 + s_2**2]])"
      ]
     },
     "metadata": {},
     "output_type": "display_data"
    }
   ],
   "source": [
    "R = Matrix([[R11, R21],[R12, R22]])\n",
    "display(R)"
   ]
  },
  {
   "cell_type": "markdown",
   "metadata": {},
   "source": [
    "**Valeurs propres** de R\n",
    "\n",
    "Attention, la fonction de **sympy** renvoie un dictionnaire dont les clés sont les valeurs propres et les valeurs sont les multiplicités associées. L'option ``multiple = True`` permet de retourner une liste."
   ]
  },
  {
   "cell_type": "code",
   "execution_count": 9,
   "metadata": {},
   "outputs": [
    {
     "data": {
      "text/latex": [
       "$\\displaystyle \\left[\\begin{matrix}\\frac{b_{1}^{2}}{2} + \\frac{b_{2}^{2}}{2} + \\frac{s_{1}^{2}}{2} + \\frac{s_{2}^{2}}{2} + \\frac{\\sqrt{b_{1}^{4} - 2 b_{1}^{2} b_{2}^{2} + 2 b_{1}^{2} s_{1}^{2} - 2 b_{1}^{2} s_{2}^{2} + b_{2}^{4} - 2 b_{2}^{2} s_{1}^{2} + 2 b_{2}^{2} s_{2}^{2} + s_{1}^{4} + 2 s_{1}^{2} s_{2}^{2} + s_{2}^{4}}}{2} & 0\\\\0 & \\frac{b_{1}^{2}}{2} + \\frac{b_{2}^{2}}{2} + \\frac{s_{1}^{2}}{2} + \\frac{s_{2}^{2}}{2} - \\frac{\\sqrt{b_{1}^{4} - 2 b_{1}^{2} b_{2}^{2} + 2 b_{1}^{2} s_{1}^{2} - 2 b_{1}^{2} s_{2}^{2} + b_{2}^{4} - 2 b_{2}^{2} s_{1}^{2} + 2 b_{2}^{2} s_{2}^{2} + s_{1}^{4} + 2 s_{1}^{2} s_{2}^{2} + s_{2}^{4}}}{2}\\end{matrix}\\right]$"
      ],
      "text/plain": [
       "Matrix([\n",
       "[b_1**2/2 + b_2**2/2 + s_1**2/2 + s_2**2/2 + sqrt(b_1**4 - 2*b_1**2*b_2**2 + 2*b_1**2*s_1**2 - 2*b_1**2*s_2**2 + b_2**4 - 2*b_2**2*s_1**2 + 2*b_2**2*s_2**2 + s_1**4 + 2*s_1**2*s_2**2 + s_2**4)/2,                                                                                                                                                                                                 0],\n",
       "[                                                                                                                                                                                                0, b_1**2/2 + b_2**2/2 + s_1**2/2 + s_2**2/2 - sqrt(b_1**4 - 2*b_1**2*b_2**2 + 2*b_1**2*s_1**2 - 2*b_1**2*s_2**2 + b_2**4 - 2*b_2**2*s_1**2 + 2*b_2**2*s_2**2 + s_1**4 + 2*s_1**2*s_2**2 + s_2**4)/2]])"
      ]
     },
     "execution_count": 9,
     "metadata": {},
     "output_type": "execute_result"
    }
   ],
   "source": [
    "D = diag(R.eigenvals(multiple=True)[::-1], unpack=True)\n",
    "D"
   ]
  },
  {
   "cell_type": "markdown",
   "metadata": {},
   "source": [
    "**Vecteurs propres** de $R$\n",
    "\n",
    "Les vecteurs étant définis à une constante multiplicative près, on peut faire en sorte que $r_1 = 1$."
   ]
  },
  {
   "cell_type": "code",
   "execution_count": 10,
   "metadata": {},
   "outputs": [
    {
     "data": {
      "text/latex": [
       "$\\displaystyle \\left[\\begin{matrix}1\\\\\\frac{1}{\\frac{\\left(- b_{2}^{2} - s_{2}^{2}\\right) e^{- \\frac{i \\Delta_{\\phi}}{2}}}{s_{1} s_{2}} + \\frac{\\left(\\frac{b_{1}^{2}}{2} + \\frac{b_{2}^{2}}{2} + \\frac{s_{1}^{2}}{2} + \\frac{s_{2}^{2}}{2} - \\frac{\\sqrt{b_{1}^{4} - 2 b_{1}^{2} b_{2}^{2} + 2 b_{1}^{2} s_{1}^{2} - 2 b_{1}^{2} s_{2}^{2} + b_{2}^{4} - 2 b_{2}^{2} s_{1}^{2} + 2 b_{2}^{2} s_{2}^{2} + s_{1}^{4} + 2 s_{1}^{2} s_{2}^{2} + s_{2}^{4}}}{2}\\right) e^{- \\frac{i \\Delta_{\\phi}}{2}}}{s_{1} s_{2}}}\\end{matrix}\\right]$"
      ],
      "text/plain": [
       "Matrix([\n",
       "[                                                                                                                                                                                                                                                                                       1],\n",
       "[1/((-b_2**2 - s_2**2)*exp(-I*Delta_phi/2)/(s_1*s_2) + (b_1**2/2 + b_2**2/2 + s_1**2/2 + s_2**2/2 - sqrt(b_1**4 - 2*b_1**2*b_2**2 + 2*b_1**2*s_1**2 - 2*b_1**2*s_2**2 + b_2**4 - 2*b_2**2*s_1**2 + 2*b_2**2*s_2**2 + s_1**4 + 2*s_1**2*s_2**2 + s_2**4)/2)*exp(-I*Delta_phi/2)/(s_1*s_2))]])"
      ]
     },
     "metadata": {},
     "output_type": "display_data"
    },
    {
     "data": {
      "text/latex": [
       "$\\displaystyle \\left[\\begin{matrix}1\\\\\\frac{1}{\\frac{\\left(- b_{2}^{2} - s_{2}^{2}\\right) e^{- \\frac{i \\Delta_{\\phi}}{2}}}{s_{1} s_{2}} + \\frac{\\left(\\frac{b_{1}^{2}}{2} + \\frac{b_{2}^{2}}{2} + \\frac{s_{1}^{2}}{2} + \\frac{s_{2}^{2}}{2} + \\frac{\\sqrt{b_{1}^{4} - 2 b_{1}^{2} b_{2}^{2} + 2 b_{1}^{2} s_{1}^{2} - 2 b_{1}^{2} s_{2}^{2} + b_{2}^{4} - 2 b_{2}^{2} s_{1}^{2} + 2 b_{2}^{2} s_{2}^{2} + s_{1}^{4} + 2 s_{1}^{2} s_{2}^{2} + s_{2}^{4}}}{2}\\right) e^{- \\frac{i \\Delta_{\\phi}}{2}}}{s_{1} s_{2}}}\\end{matrix}\\right]$"
      ],
      "text/plain": [
       "Matrix([\n",
       "[                                                                                                                                                                                                                                                                                       1],\n",
       "[1/((-b_2**2 - s_2**2)*exp(-I*Delta_phi/2)/(s_1*s_2) + (b_1**2/2 + b_2**2/2 + s_1**2/2 + s_2**2/2 + sqrt(b_1**4 - 2*b_1**2*b_2**2 + 2*b_1**2*s_1**2 - 2*b_1**2*s_2**2 + b_2**4 - 2*b_2**2*s_1**2 + 2*b_2**2*s_2**2 + s_1**4 + 2*s_1**2*s_2**2 + s_2**4)/2)*exp(-I*Delta_phi/2)/(s_1*s_2))]])"
      ]
     },
     "metadata": {},
     "output_type": "display_data"
    }
   ],
   "source": [
    "Eig = R.eigenvects()\n",
    "EigVect = [eig[2][0]/eig[2][0][0] for eig in Eig]\n",
    "for vect in EigVect:\n",
    "    display(vect)"
   ]
  },
  {
   "cell_type": "markdown",
   "metadata": {},
   "source": [
    "**Matrice des vecteurs propres**\n",
    "\n",
    "Note : sympy propose également la fonction ``diagonalize`` qui renvoie directement $R$ et $D$. On aurait donc pu se passer de la question précédente."
   ]
  },
  {
   "cell_type": "code",
   "execution_count": 12,
   "metadata": {},
   "outputs": [
    {
     "data": {
      "text/latex": [
       "$\\displaystyle \\left[\\begin{matrix}1 & 1\\\\\\frac{1}{\\frac{\\left(- b_{2}^{2} - s_{2}^{2}\\right) e^{- \\frac{i \\Delta_{\\phi}}{2}}}{s_{1} s_{2}} + \\frac{\\left(\\frac{b_{1}^{2}}{2} + \\frac{b_{2}^{2}}{2} + \\frac{s_{1}^{2}}{2} + \\frac{s_{2}^{2}}{2} - \\frac{\\sqrt{b_{1}^{4} - 2 b_{1}^{2} b_{2}^{2} + 2 b_{1}^{2} s_{1}^{2} - 2 b_{1}^{2} s_{2}^{2} + b_{2}^{4} - 2 b_{2}^{2} s_{1}^{2} + 2 b_{2}^{2} s_{2}^{2} + s_{1}^{4} + 2 s_{1}^{2} s_{2}^{2} + s_{2}^{4}}}{2}\\right) e^{- \\frac{i \\Delta_{\\phi}}{2}}}{s_{1} s_{2}}} & \\frac{1}{\\frac{\\left(- b_{2}^{2} - s_{2}^{2}\\right) e^{- \\frac{i \\Delta_{\\phi}}{2}}}{s_{1} s_{2}} + \\frac{\\left(\\frac{b_{1}^{2}}{2} + \\frac{b_{2}^{2}}{2} + \\frac{s_{1}^{2}}{2} + \\frac{s_{2}^{2}}{2} + \\frac{\\sqrt{b_{1}^{4} - 2 b_{1}^{2} b_{2}^{2} + 2 b_{1}^{2} s_{1}^{2} - 2 b_{1}^{2} s_{2}^{2} + b_{2}^{4} - 2 b_{2}^{2} s_{1}^{2} + 2 b_{2}^{2} s_{2}^{2} + s_{1}^{4} + 2 s_{1}^{2} s_{2}^{2} + s_{2}^{4}}}{2}\\right) e^{- \\frac{i \\Delta_{\\phi}}{2}}}{s_{1} s_{2}}}\\end{matrix}\\right]$"
      ],
      "text/plain": [
       "Matrix([\n",
       "[                                                                                                                                                                                                                                                                                       1,                                                                                                                                                                                                                                                                                        1],\n",
       "[1/((-b_2**2 - s_2**2)*exp(-I*Delta_phi/2)/(s_1*s_2) + (b_1**2/2 + b_2**2/2 + s_1**2/2 + s_2**2/2 - sqrt(b_1**4 - 2*b_1**2*b_2**2 + 2*b_1**2*s_1**2 - 2*b_1**2*s_2**2 + b_2**4 - 2*b_2**2*s_1**2 + 2*b_2**2*s_2**2 + s_1**4 + 2*s_1**2*s_2**2 + s_2**4)/2)*exp(-I*Delta_phi/2)/(s_1*s_2)), 1/((-b_2**2 - s_2**2)*exp(-I*Delta_phi/2)/(s_1*s_2) + (b_1**2/2 + b_2**2/2 + s_1**2/2 + s_2**2/2 + sqrt(b_1**4 - 2*b_1**2*b_2**2 + 2*b_1**2*s_1**2 - 2*b_1**2*s_2**2 + b_2**4 - 2*b_2**2*s_1**2 + 2*b_2**2*s_2**2 + s_1**4 + 2*s_1**2*s_2**2 + s_2**4)/2)*exp(-I*Delta_phi/2)/(s_1*s_2))]])"
      ]
     },
     "execution_count": 12,
     "metadata": {},
     "output_type": "execute_result"
    }
   ],
   "source": [
    "P = Matrix([[composante for composante in vect] for vect in EigVect]).transpose()\n",
    "P"
   ]
  },
  {
   "cell_type": "code",
   "execution_count": null,
   "metadata": {},
   "outputs": [],
   "source": [
    "P, D = R.diagonalize()"
   ]
  },
  {
   "cell_type": "code",
   "execution_count": null,
   "metadata": {},
   "outputs": [],
   "source": [
    "display(P)"
   ]
  },
  {
   "cell_type": "code",
   "execution_count": null,
   "metadata": {},
   "outputs": [],
   "source": [
    "display(D)"
   ]
  },
  {
   "cell_type": "code",
   "execution_count": null,
   "metadata": {},
   "outputs": [],
   "source": []
  },
  {
   "cell_type": "code",
   "execution_count": 1,
   "metadata": {},
   "outputs": [
    {
     "data": {
      "text/latex": [
       "$\\displaystyle \\left[\\begin{matrix}b_{1}^{2} + s_{1}^{2} & s_{1} s_{2} e^{- \\frac{i \\Delta_{\\phi}}{2}}\\\\s_{1} s_{2} e^{\\frac{i \\Delta_{\\phi}}{2}} & b_{2}^{2} + s_{2}^{2}\\end{matrix}\\right]$"
      ],
      "text/plain": [
       "Matrix([\n",
       "[           b_1**2 + s_1**2, s_1*s_2*exp(-I*Delta_phi/2)],\n",
       "[s_1*s_2*exp(I*Delta_phi/2),             b_2**2 + s_2**2]])"
      ]
     },
     "metadata": {},
     "output_type": "display_data"
    },
    {
     "data": {
      "text/latex": [
       "$\\displaystyle \\left[\\begin{matrix}\\frac{\\left(b_{1}^{2} - b_{2}^{2} + s_{1}^{2} - s_{2}^{2} - \\sqrt{b_{1}^{4} - 2 b_{1}^{2} b_{2}^{2} + 2 b_{1}^{2} s_{1}^{2} - 2 b_{1}^{2} s_{2}^{2} + b_{2}^{4} - 2 b_{2}^{2} s_{1}^{2} + 2 b_{2}^{2} s_{2}^{2} + s_{1}^{4} + 2 s_{1}^{2} s_{2}^{2} + s_{2}^{4}}\\right) e^{- \\frac{i \\Delta_{\\phi}}{2}}}{2 s_{1} s_{2}} & \\frac{\\left(b_{1}^{2} - b_{2}^{2} + s_{1}^{2} - s_{2}^{2} + \\sqrt{b_{1}^{4} - 2 b_{1}^{2} b_{2}^{2} + 2 b_{1}^{2} s_{1}^{2} - 2 b_{1}^{2} s_{2}^{2} + b_{2}^{4} - 2 b_{2}^{2} s_{1}^{2} + 2 b_{2}^{2} s_{2}^{2} + s_{1}^{4} + 2 s_{1}^{2} s_{2}^{2} + s_{2}^{4}}\\right) e^{- \\frac{i \\Delta_{\\phi}}{2}}}{2 s_{1} s_{2}}\\\\1 & 1\\end{matrix}\\right]$"
      ],
      "text/plain": [
       "Matrix([\n",
       "[(b_1**2 - b_2**2 + s_1**2 - s_2**2 - sqrt(b_1**4 - 2*b_1**2*b_2**2 + 2*b_1**2*s_1**2 - 2*b_1**2*s_2**2 + b_2**4 - 2*b_2**2*s_1**2 + 2*b_2**2*s_2**2 + s_1**4 + 2*s_1**2*s_2**2 + s_2**4))*exp(-I*Delta_phi/2)/(2*s_1*s_2), (b_1**2 - b_2**2 + s_1**2 - s_2**2 + sqrt(b_1**4 - 2*b_1**2*b_2**2 + 2*b_1**2*s_1**2 - 2*b_1**2*s_2**2 + b_2**4 - 2*b_2**2*s_1**2 + 2*b_2**2*s_2**2 + s_1**4 + 2*s_1**2*s_2**2 + s_2**4))*exp(-I*Delta_phi/2)/(2*s_1*s_2)],\n",
       "[                                                                                                                                                                                                                        1,                                                                                                                                                                                                                         1]])"
      ]
     },
     "metadata": {},
     "output_type": "display_data"
    },
    {
     "data": {
      "text/latex": [
       "$\\displaystyle \\left[\\begin{matrix}\\frac{b_{1}^{2}}{2} + \\frac{b_{2}^{2}}{2} + \\frac{s_{1}^{2}}{2} + \\frac{s_{2}^{2}}{2} - \\frac{\\sqrt{b_{1}^{4} - 2 b_{1}^{2} b_{2}^{2} + 2 b_{1}^{2} s_{1}^{2} - 2 b_{1}^{2} s_{2}^{2} + b_{2}^{4} - 2 b_{2}^{2} s_{1}^{2} + 2 b_{2}^{2} s_{2}^{2} + s_{1}^{4} + 2 s_{1}^{2} s_{2}^{2} + s_{2}^{4}}}{2} & 0\\\\0 & \\frac{b_{1}^{2}}{2} + \\frac{b_{2}^{2}}{2} + \\frac{s_{1}^{2}}{2} + \\frac{s_{2}^{2}}{2} + \\frac{\\sqrt{b_{1}^{4} - 2 b_{1}^{2} b_{2}^{2} + 2 b_{1}^{2} s_{1}^{2} - 2 b_{1}^{2} s_{2}^{2} + b_{2}^{4} - 2 b_{2}^{2} s_{1}^{2} + 2 b_{2}^{2} s_{2}^{2} + s_{1}^{4} + 2 s_{1}^{2} s_{2}^{2} + s_{2}^{4}}}{2}\\end{matrix}\\right]$"
      ],
      "text/plain": [
       "Matrix([\n",
       "[b_1**2/2 + b_2**2/2 + s_1**2/2 + s_2**2/2 - sqrt(b_1**4 - 2*b_1**2*b_2**2 + 2*b_1**2*s_1**2 - 2*b_1**2*s_2**2 + b_2**4 - 2*b_2**2*s_1**2 + 2*b_2**2*s_2**2 + s_1**4 + 2*s_1**2*s_2**2 + s_2**4)/2,                                                                                                                                                                                                 0],\n",
       "[                                                                                                                                                                                                0, b_1**2/2 + b_2**2/2 + s_1**2/2 + s_2**2/2 + sqrt(b_1**4 - 2*b_1**2*b_2**2 + 2*b_1**2*s_1**2 - 2*b_1**2*s_2**2 + b_2**4 - 2*b_2**2*s_1**2 + 2*b_2**2*s_2**2 + s_1**4 + 2*s_1**2*s_2**2 + s_2**4)/2]])"
      ]
     },
     "metadata": {},
     "output_type": "display_data"
    }
   ],
   "source": [
    "from sympy import *\n",
    "\n",
    "s_1, s_2, b_1, b_2, Delta_phi = symbols(\"s_1 s_2 b_1 b_2 Delta_phi\")\n",
    "\n",
    "R11 = s_1**2 + b_1**2\n",
    "R22 = s_2**2 + b_2**2\n",
    "R21 = s_1*s_2*exp(-I*Delta_phi/2)\n",
    "R12 = s_1*s_2*exp(I*Delta_phi/2)\n",
    "\n",
    "R = Matrix([[R11, R21],[R12, R22]])\n",
    "display(R)\n",
    "\n",
    "P, D = R.diagonalize()\n",
    "display(P)\n",
    "display(D)"
   ]
  },
  {
   "cell_type": "code",
   "execution_count": null,
   "metadata": {},
   "outputs": [],
   "source": []
  },
  {
   "cell_type": "code",
   "execution_count": 2,
   "metadata": {},
   "outputs": [
    {
     "data": {
      "text/plain": [
       "{b_1**2/2 + b_2**2/2 + s_1**2/2 + s_2**2/2 - sqrt(b_1**4 - 2*b_1**2*b_2**2 + 2*b_1**2*s_1**2 - 2*b_1**2*s_2**2 + b_2**4 - 2*b_2**2*s_1**2 + 2*b_2**2*s_2**2 + s_1**4 + 2*s_1**2*s_2**2 + s_2**4)/2: 1,\n",
       " b_1**2/2 + b_2**2/2 + s_1**2/2 + s_2**2/2 + sqrt(b_1**4 - 2*b_1**2*b_2**2 + 2*b_1**2*s_1**2 - 2*b_1**2*s_2**2 + b_2**4 - 2*b_2**2*s_1**2 + 2*b_2**2*s_2**2 + s_1**4 + 2*s_1**2*s_2**2 + s_2**4)/2: 1}"
      ]
     },
     "execution_count": 2,
     "metadata": {},
     "output_type": "execute_result"
    }
   ],
   "source": [
    "R.eigenvals()"
   ]
  },
  {
   "cell_type": "code",
   "execution_count": 3,
   "metadata": {},
   "outputs": [
    {
     "data": {
      "text/plain": [
       "[(b_1**2/2 + b_2**2/2 + s_1**2/2 + s_2**2/2 - sqrt(b_1**4 - 2*b_1**2*b_2**2 + 2*b_1**2*s_1**2 - 2*b_1**2*s_2**2 + b_2**4 - 2*b_2**2*s_1**2 + 2*b_2**2*s_2**2 + s_1**4 + 2*s_1**2*s_2**2 + s_2**4)/2,\n",
       "  1,\n",
       "  [Matrix([\n",
       "   [(-b_2**2 - s_2**2)*exp(-I*Delta_phi/2)/(s_1*s_2) + (b_1**2/2 + b_2**2/2 + s_1**2/2 + s_2**2/2 - sqrt(b_1**4 - 2*b_1**2*b_2**2 + 2*b_1**2*s_1**2 - 2*b_1**2*s_2**2 + b_2**4 - 2*b_2**2*s_1**2 + 2*b_2**2*s_2**2 + s_1**4 + 2*s_1**2*s_2**2 + s_2**4)/2)*exp(-I*Delta_phi/2)/(s_1*s_2)],\n",
       "   [                                                                                                                                                                                                                                                                                   1]])]),\n",
       " (b_1**2/2 + b_2**2/2 + s_1**2/2 + s_2**2/2 + sqrt(b_1**4 - 2*b_1**2*b_2**2 + 2*b_1**2*s_1**2 - 2*b_1**2*s_2**2 + b_2**4 - 2*b_2**2*s_1**2 + 2*b_2**2*s_2**2 + s_1**4 + 2*s_1**2*s_2**2 + s_2**4)/2,\n",
       "  1,\n",
       "  [Matrix([\n",
       "   [(-b_2**2 - s_2**2)*exp(-I*Delta_phi/2)/(s_1*s_2) + (b_1**2/2 + b_2**2/2 + s_1**2/2 + s_2**2/2 + sqrt(b_1**4 - 2*b_1**2*b_2**2 + 2*b_1**2*s_1**2 - 2*b_1**2*s_2**2 + b_2**4 - 2*b_2**2*s_1**2 + 2*b_2**2*s_2**2 + s_1**4 + 2*s_1**2*s_2**2 + s_2**4)/2)*exp(-I*Delta_phi/2)/(s_1*s_2)],\n",
       "   [                                                                                                                                                                                                                                                                                   1]])])]"
      ]
     },
     "execution_count": 3,
     "metadata": {},
     "output_type": "execute_result"
    }
   ],
   "source": [
    "R.eigenvects()"
   ]
  },
  {
   "cell_type": "code",
   "execution_count": null,
   "metadata": {},
   "outputs": [],
   "source": []
  }
 ],
 "metadata": {
  "kernelspec": {
   "display_name": "Python 3 (ipykernel)",
   "language": "python",
   "name": "python3"
  },
  "language_info": {
   "codemirror_mode": {
    "name": "ipython",
    "version": 3
   },
   "file_extension": ".py",
   "mimetype": "text/x-python",
   "name": "python",
   "nbconvert_exporter": "python",
   "pygments_lexer": "ipython3",
   "version": "3.9.7"
  },
  "toc": {
   "base_numbering": 1,
   "nav_menu": {},
   "number_sections": true,
   "sideBar": true,
   "skip_h1_title": false,
   "title_cell": "Table of Contents",
   "title_sidebar": "Contents",
   "toc_cell": false,
   "toc_position": {},
   "toc_section_display": true,
   "toc_window_display": false
  },
  "vscode": {
   "interpreter": {
    "hash": "bacb6a13c211bae8be83f7d49e8426a638baa8d39738542db834f0c995aadfcc"
   }
  }
 },
 "nbformat": 4,
 "nbformat_minor": 2
}
